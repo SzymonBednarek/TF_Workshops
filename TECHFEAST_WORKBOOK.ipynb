{
 "metadata": {
  "kernelspec": {
   "display_name": "Streamlit Notebook",
   "name": "streamlit"
  },
  "lastEditStatus": {
   "notebookId": "3ixah37ktbftjennoion",
   "authorId": "4407691983629",
   "authorName": "JANZALUSKA",
   "authorEmail": "jan.zaluska@accenture.com",
   "sessionId": "3acf9128-8d26-415a-b436-a0b8ec71ec2a",
   "lastEditTime": 1743087838052
  }
 },
 "nbformat_minor": 5,
 "nbformat": 4,
 "cells": [
  {
   "cell_type": "markdown",
   "id": "4a9e2bc5-608f-4343-8fe5-957930334a47",
   "metadata": {
    "name": "agenda",
    "collapsed": false
   },
   "source": "# Agenda\n\n### 0. Wstęp\n### 1. Wprowadzenie do Snowflake\n### 2. Przegląd funkcji \n### 3. Snowflake cortex\n### 4. Copilot\n### 5 Cortex Search\n### 6. Cortex Analyst\n### 7. Cortex Agents"
  },
  {
   "cell_type": "markdown",
   "id": "6788102c-1299-4891-9f6f-147920c9d8d2",
   "metadata": {
    "name": "prereqs",
    "collapsed": false
   },
   "source": "# Zanim wyruszymy\n\n## Paczki\n\nKod pythonowy będzie wymagał kilka paczek do zainstalowania, aby je dodać kliknij na **Packages**, następnie wyszukaj potrzebne paczki i kliknij na nie by je dodać.\n\nDodaj:\n - streamlit\n - matplotlib\n\n---\n\n![packages](https://i.ibb.co/Y477Sfh2/packages.png)\n"
  },
  {
   "cell_type": "markdown",
   "id": "c26e3b96-f2ea-4947-8f82-dba6bf91272c",
   "metadata": {
    "name": "intro",
    "collapsed": false
   },
   "source": "# Snowflake: Platforma danych w chmurze (może dodać szerszy kontekst coś ciekawszego?)\n\n(dodać do czego sluzy\npokazac live demo UI platformy, szymon opowiada ja scrolluje i cos sobie grzdąkam\n\n)\n\n## Czym jest Snowflake?\n\n**Snowflake** to chmurowa platforma danych, która umożliwia jednoczesne przechowywanie, przetwarzanie i analizę danych w jednym środowisku. Dzięki architekturze opartej na rozdzieleniu zasobów storage i compute, Snowflake pozwala na elastyczne i efektywne skalowanie zgodnie z bieżącymi potrzebami. Snowflake jest jednym z liderów w obszarze hurtowni danych i analityki w chmurze, często wymienianym w ścisłej czołówce obok takich rozwiązań jak Amazon Redshift, Google BigQuery czy Azure Synapse.\n\n![architecture](https://docs.snowflake.com/en/_images/architecture-overview.png)\n\n---\n\n## Zalety Snowflake\n\nSnowflake to chmurowa platforma danych oferująca rozwiązania do przechowywania, przetwarzania i analizy dużych zbiorów danych. Do jej głównych zalet należą:\n\n1. **Elastyczność i skalowalność**:\n   - Umożliwia szybkie skalowanie zasobów w górę lub w dół w zależności od aktualnych potrzeb, co jest kluczowe w przypadku zmiennego zapotrzebowania na przetwarzanie danych.\n\n2. **Wydajność**:\n   - Oddzielenie przetwarzania od przechowywania danych zapewnia efektywność i zmniejsza ryzyko przestojów.\n\n3. **Integracja z narzędziami analitycznymi**:\n   - Snowflake integruje się z popularnymi narzędziami do analizy danych, takimi jak Tableau, Power BI czy Python, umożliwiając łatwe przesyłanie i przetwarzanie danych z różnych źródeł.\n\n---\n\n## O czym warto pamiętać?\n\nSnowflake ma również pewne ograniczenia:\n\n1. **Koszty**:\n   - Przy intensywnym korzystaniu z zasobów obliczeniowych, koszty mogą szybko wzrosnąć, mimo elastycznego modelu płatności. \n\n2. **Krzywa uczenia się**:\n   - Niektóre zaawansowane funkcje mogą wymagać czasu na opanowanie, pomimo ogólnej łatwości użycia. \n\n---\n\n**Gotowy, aby zacząć?** Snowflake czeka, aby pomóc Ci w transformacji danych! 🚀"
  },
  {
   "cell_type": "markdown",
   "id": "e895c4b1-abd4-47dc-84d0-74a466e7c2d0",
   "metadata": {
    "name": "intro_sql_intro",
    "collapsed": false
   },
   "source": "# Co potrafi Snowflake?\n\nPoniżej znajdziesz dwa przykłady do czego jest zdolny Snowflake i jak ułatwia pracę.\n\n---\n\n## Przykład: Przechowywanie danych, querowanie ich oraz wizualizacja\n\nTen przykład pokazuje, jak stworzyć bazę danych, schemę i tabelę za pomocą SQL w Snowflake Notebooks.\n"
  },
  {
   "cell_type": "markdown",
   "id": "94592dd0-a0ea-488e-adc4-9a7c1ab6636f",
   "metadata": {
    "name": "cell1",
    "collapsed": false
   },
   "source": "Pokazac worksheets sql+python, i powiedziec czemu pokazujemy w notebookach"
  },
  {
   "cell_type": "code",
   "id": "8335385a-b585-46cf-8b9a-90b95dfa4000",
   "metadata": {
    "language": "sql",
    "name": "select_lectures"
   },
   "outputs": [],
   "source": "use role accountadmin;\n-- Tworzenie bazy danych\nCREATE or replace DATABASE university_db;\n\n-- Użycie bazy danych\nUSE DATABASE university_db;\n\n-- Tworzenie schematu\nCREATE or replace SCHEMA university_schema;\n\n-- Użycie schematu\nUSE SCHEMA university_schema;\n\n-- Tworzenie tabeli wykładów\nCREATE or replace TABLE lectures (\n    lecture_name STRING NOT NULL,\n    lecturer STRING NOT NULL,\n    lecture_date DATE NOT NULL,\n    start_time TIME NOT NULL,\n    end_time TIME NOT NULL,\n    room_number STRING,\n    capacity INT\n);\n\n-- Wgranie danych w tabelkę\nINSERT INTO lectures (lecture_name, lecturer, lecture_date, start_time, end_time, room_number, capacity) \nVALUES \n    ('Operating Systems', 'Dr. White', '2025-03-22', '16:30:00', '16:30:00', 'B202', 51),\n    ('Big Data Analytics', 'Dr. White', '2025-03-16', '16:00:00', '16:30:00', 'B202', 128),\n    ('Big Data Analytics', 'Dr. Brown', '2025-03-12', '14:00:00', '10:00:00', 'A101', 64),\n    ('Blockchain Technology', 'Dr. Brown', '2025-03-24', '18:00:00', '12:30:00', 'A101', 172),\n    ('Machine Learning', 'Dr. White', '2025-03-11', '13:00:00', '10:00:00', 'C303', 111),\n    ('Cyber Security', 'Dr. Smith', '2025-03-14', '09:30:00', '11:00:00', 'D404', 95),\n    ('Database Systems', 'Dr. Johnson', '2025-03-19', '10:00:00', '11:30:00', 'A101', 85),\n    ('Cloud Computing', 'Dr. Brown', '2025-03-20', '12:00:00', '13:30:00', 'B202', 120),\n    ('Data Structures', 'Prof. Johnson', '2025-03-21', '14:00:00', '15:30:00', 'C303', 100),\n    ('Algorithms', 'Dr. Green', '2025-03-22', '16:00:00', '17:30:00', 'D404', 130),\n    ('Software Engineering', 'Dr. Smith', '2025-03-23', '09:00:00', '10:30:00', 'A101', 140),\n    ('Computer Networks', 'Prof. Johnson', '2025-03-24', '11:00:00', '12:30:00', 'B202', 110),\n    ('Artificial Intelligence', 'Dr. White', '2025-03-25', '13:00:00', '14:30:00', 'C303', 90),\n    ('Parallel Computing', 'Dr. Brown', '2025-03-26', '15:00:00', '16:30:00', 'D404', 105),\n    ('Human-Computer Interaction', 'Dr. Smith', '2025-03-27', '17:00:00', '18:30:00', 'A101', 115);\n\n-- wyselectowanie wartości tabelki\nselect * from university_db.university_schema.lectures;",
   "execution_count": null
  },
  {
   "cell_type": "markdown",
   "id": "879b7ae7-562b-4250-ac2e-95a7117ee49c",
   "metadata": {
    "name": "intro_sql_cell_intro_python",
    "collapsed": false
   },
   "source": "## Przykład: Wizualizacja danych w Pythonie\n\nTeraz wykorzystamy wynik z poprzedniego zapytania SQL (zapisanego w `select_lectures`) i stworzymy interaktywną wizualizację za pomocą **Streamlit** i **Pandas**."
  },
  {
   "cell_type": "code",
   "id": "afff5f84-b47a-4a05-a434-b176adeb52d3",
   "metadata": {
    "language": "python",
    "name": "intro_sql_cell_python"
   },
   "outputs": [],
   "source": "# Importowanie niezbędnych bibliotek\nimport streamlit as st\nimport pandas as pd\n\n# Możemy również użyć Snowpark do naszych analiz!\nfrom snowflake.snowpark.context import get_active_session\nsession = get_active_session()\n\n# Następnie możemy użyć nazwy pythonowej, aby przekształcić intro_sql w Pandas dataframe\nmy_df = select_lectures.to_pandas()\n\n# Grupowanie i zliczanie liczby wykładów w każdej sali\nlecture_counts = my_df['ROOM_NUMBER'].value_counts().reset_index()\nlecture_counts.columns = ['ROOM_NUMBER', 'count']\n\n# Tworzenie wykresu danych\nst.subheader(\"Liczba wykładów w salach 🎓\")\nst.bar_chart(lecture_counts, x='ROOM_NUMBER', y='count')",
   "execution_count": null
  },
  {
   "cell_type": "markdown",
   "id": "5ced2477-937d-4f66-bdfa-4fd662709d6e",
   "metadata": {
    "name": "function_warehouses",
    "collapsed": false
   },
   "source": "## 2. Warehouses\n\n- **Warehouse** to zasoby obliczeniowe, które Snowflake używa do wykonywania zapytań.\n- Możesz tworzyć różne warehouse'y dla różnych zadań, np.:\n  - **Mały warehouse** do prostych zapytań.\n  - **Duży warehouse** do złożonych analiz.\n"
  },
  {
   "cell_type": "code",
   "id": "f4a9a328-5881-4593-a8d6-3c3779ecb356",
   "metadata": {
    "language": "sql",
    "name": "function_warehouse"
   },
   "outputs": [],
   "source": "CREATE WAREHOUSE my_warehouse WITH WAREHOUSE_SIZE = 'XSMALL'; // Stworzenie własnego warehouse z rozmiarem xsmall (mały)",
   "execution_count": null
  },
  {
   "cell_type": "markdown",
   "id": "392dd875-4469-4c40-86dc-3db31ef3ebff",
   "metadata": {
    "name": "function_role",
    "collapsed": false
   },
   "source": "## 3. Role\n\n- **Role** w Snowflake określają, do jakich danych i funkcji użytkownik ma dostęp.\n- **Role** w Snowflake to mechanizm, który określa, do jakich danych, obiektów i funkcji użytkownik ma dostęp. Każdy użytkownik w Snowflake ma przypisaną rolę (lub wiele ról), która definiuje jego uprawnienia. Role są kluczowym elementem zarządzania bezpieczeństwem i kontrolą dostępu w Snowflake.\n- Role mogą dziedziczyć uprawnienia od innych ról, tworząc hierarchię.\n\n"
  },
  {
   "cell_type": "markdown",
   "id": "7a29962d-fa17-4018-8826-fa40ad80bcbe",
   "metadata": {
    "name": "function_notebook",
    "collapsed": false
   },
   "source": "## 4. Notebooks\n\n- **Notebooks** to interaktywne środowisko do analizy danych, które łączy kod SQL, Python i Markdown.\n- Możesz używać Notebooks do:\n  - Eksploracji danych.\n  - Tworzenia wizualizacji.\n  - Dokumentowania analiz.\n\n  ---\n\n\n  ![notebooks](https://docs.snowflake.com/en/_images/sf-notebooks-intro.png)"
  },
  {
   "cell_type": "markdown",
   "id": "74701349-09cf-4cba-9d77-0ccc3fb06818",
   "metadata": {
    "name": "llm_intro",
    "collapsed": false
   },
   "source": "# Snowflake Cortex: LLM in the cloud\n\n[Snowflake Cortex](https://docs.snowflake.com/en/user-guide/snowflake-cortex/llm-functions) to zestaw narzędzi, które umożliwiają dostęp do zaawansowanych modeli językowych (LLM) w środowisku Snowflake. Dzięki integracji z modelami takimi jak **Anthropic**, **Mistral**, **Reka**, **Meta**, **Gemini** oraz **Snowflake Arctic**, Cortex pozwala na wykorzystanie możliwości AI bez konieczności skomplikowanej konfiguracji. Snowflake Arctic to otwarty, korporacyjny model opracowany przez Snowflake, który oferuje dodatkowe możliwości analityczne.\n\n---\n\n## Na co zwrócić uwagę, korzystając ze Snowflake Cortex?\n\n### **Bezpieczeństwo i zarządzanie danymi**  \n- Modele są hostowane wewnątrz Snowflake, więc dane pozostają w kontrolowanym środowisku.  \n- Nie ma potrzeby zarządzania infrastrukturą ML, ale jednocześnie dostępne są tylko predefiniowane modele.  \n\n### **Integracja i łatwość wdrożenia**  \n- Obsługa SQL i Python API pozwala na szybkie wdrożenie w istniejących procesach analitycznych.  \n- Brak konieczności konfigurowania i trenowania modeli to oszczędność czasu, ale może ograniczać elastyczność w bardziej zaawansowanych przypadkach.  \n\n### **Wydajność i koszty**  \n- Snowflake Cortex pozwala na przetwarzanie dużych zbiorów danych wsadowo, co sprawdza się w analizie tekstu na dużą skalę.  \n- REST API umożliwia interaktywne zapytania z niskimi opóźnieniami, np. w chatbotach.  \n- Koszt przetwarzania może być wysoki przy intensywnym wykorzystaniu modeli NLP – warto monitorować zużycie zasobów.  \n\n### **Ograniczenia ekosystemu**  \n- Snowflake Cortex działa wyłącznie w ramach Snowflake, co oznacza brak możliwości użycia w innych środowiskach, np. on-premise.  \n- Nie można trenować własnych modeli – dostępne są tylko te udostępnione przez Snowflake.  \n\n---\n\n## **Kiedy warto używać Snowflake Cortex?**\n\n### **Typowe zastosowania:**\n1. **Analiza dużych zbiorów danych**  \n   - Wykorzystanie funkcji wsadowych do analizy sentymentu, klasyfikacji tekstu czy generowania podsumowań w SQL.  \n\n2. **Interaktywne aplikacje**  \n   - REST API pozwala na dynamiczne generowanie odpowiedzi w chatbotach lub systemach rekomendacyjnych.  \n\n3. **Automatyzacja procesów biznesowych**  \n   - Można wykorzystać Cortex do automatycznego tłumaczenia, klasyfikacji dokumentów czy ekstrakcji informacji.  \n\n### **Kiedy warto rozważyć inne podejście?**\n- Gdy potrzebujesz bardziej zaawansowanego dostosowania modeli NLP.  \n- Jeśli chcesz optymalizować koszty i masz możliwość wdrożenia własnej infrastruktury ML.  \n- W przypadku konieczności uruchamiania modeli poza Snowflake.  \n\nSnowflake Cortex to wygodne rozwiązanie dla firm korzystających już ze Snowflake, ale warto rozważyć jego ograniczenia w kontekście konkretnych potrzeb biznesowych.\n\n---\n\nKoniec teorii, przejdźmy do przykładów. 🚀"
  },
  {
   "cell_type": "markdown",
   "id": "ace28ac9-9ef5-468c-accb-01f44ca67797",
   "metadata": {
    "name": "llm_sentiment_intro",
    "collapsed": false
   },
   "source": "# Przykład #1: Analiza sentymentu z użyciem Snowflake Cortex\n\n---\n\nTen przykład pokazuje, jak użyć funkcji `SENTIMENT` z Snowflake Cortex do analizy sentymentu tekstu, podająć jako argument tekst."
  },
  {
   "cell_type": "code",
   "id": "ecc8e6a5-af06-4b44-8df6-22449cd395d9",
   "metadata": {
    "language": "sql",
    "name": "llm_sentiment_code"
   },
   "outputs": [],
   "source": "SELECT SNOWFLAKE.CORTEX.SENTIMENT('Snowflake is the best data platform that users can acess, it is so amazing that i can t stop thinking about it');\n",
   "execution_count": null
  },
  {
   "cell_type": "markdown",
   "id": "0ef13a93-8d4d-4639-a1e3-4a0f76bf6d34",
   "metadata": {
    "name": "ll_sentiment_case2",
    "collapsed": false
   },
   "source": "Ten przykład pokazuje, jak użyć funkcji `SENTIMENT` z Snowflake Cortex do analizy sentymentu tekstu, podająć jako argument tekst."
  },
  {
   "cell_type": "code",
   "id": "5e109d26-015c-42e2-bec3-ce6c92568d71",
   "metadata": {
    "language": "sql",
    "name": "llm_sentiment_code_from_table"
   },
   "outputs": [],
   "source": "select review_id, review, SNOWFLAKE.CORTEX.SENTIMENT(review) as sentiment_of_review, truck_brand_name from tb_voc.analytics.TRUCK_REVIEWS_V limit 10;",
   "execution_count": null
  },
  {
   "cell_type": "markdown",
   "id": "3f2631a9-c765-406a-8eb7-d8b0ef83bf55",
   "metadata": {
    "name": "llm_select_model_intro",
    "collapsed": false
   },
   "source": "# Przykład #2: Zapytanie do modelu Mistral-Large\n\n---\n\nTen przykład pokazuje, jak użyć funkcji `COMPLETE` z Snowflake Cortex, aby zadać pytanie modelowi językowemu **Mistral-Large**."
  },
  {
   "cell_type": "code",
   "id": "fe5f7301-77e1-4bd8-9c86-138b39b46b70",
   "metadata": {
    "language": "sql",
    "name": "llm_select_model_code"
   },
   "outputs": [],
   "source": "SELECT SNOWFLAKE.CORTEX.COMPLETE(\n    'mistral-large2',\n    'What is cool about number 42?'\n);",
   "execution_count": null
  },
  {
   "cell_type": "code",
   "id": "0973d8a2-32f4-4544-b969-7cb4ff17c169",
   "metadata": {
    "language": "python",
    "name": "cell2"
   },
   "outputs": [],
   "source": "my_df = llm_select_model_code.to_pandas()\nst.write(my_df.iloc[0,0])",
   "execution_count": null
  },
  {
   "cell_type": "markdown",
   "id": "2ae91072-2851-411b-9bb8-08b4863e6a8b",
   "metadata": {
    "name": "llm_function_summarize_intro",
    "collapsed": false
   },
   "source": "# Przykład #3: Podsumowanie tekstu\n\n---\n\nTen przykład pokazuje, jak użyć funkcji `SUMMARIZE` z Snowflake Cortex do stworzenia skróconego podsumowania długiego tekstu."
  },
  {
   "cell_type": "code",
   "id": "9f477ec3-eaf6-4f1b-b030-b6ed19981d7d",
   "metadata": {
    "language": "sql",
    "name": "llm_function_summarize_code"
   },
   "outputs": [],
   "source": "SELECT SNOWFLAKE.CORTEX.SUMMARIZE(\n    'Artificial intelligence (AI) has rapidly evolved over the past few decades, transforming industries and revolutionizing the way humans interact with technology. Initially, AI systems were limited to rule-based programs that could only perform specific, predefined tasks. However, with advancements in machine learning and deep learning, modern AI has become increasingly capable of learning from vast amounts of data, recognizing patterns, and making autonomous decisions. These improvements have led to breakthroughs in natural language processing, computer vision, and robotics, allowing AI to be integrated into various applications, from virtual assistants like Siri and Alexa to self-driving cars and advanced medical diagnostics. Despite these advancements, ethical concerns and potential risks remain significant challenges, with debates surrounding issues like data privacy, bias in algorithms, and the potential impact of AI on the job market.\n\nOne of the most exciting aspects of AI is its potential to enhance human capabilities and solve complex global problems. For instance, AI is being used to predict climate change patterns, optimize supply chains, and even develop new drugs at unprecedented speeds. In healthcare, AI-powered systems assist doctors by analyzing medical images and suggesting accurate diagnoses, improving patient outcomes. However, as AI systems become more sophisticated, questions arise about their decision-making transparency and accountability. Many experts emphasize the need for robust regulatory frameworks and ethical guidelines to ensure AI is developed and deployed responsibly. While the future of AI holds great promise, it is crucial to strike a balance between innovation and ethical considerations to ensure that its benefits outweigh its risks.'\n);",
   "execution_count": null
  },
  {
   "cell_type": "code",
   "id": "a1c10cd2-5209-4fbf-8175-d3bf08f4b31b",
   "metadata": {
    "language": "python",
    "name": "cell3"
   },
   "outputs": [],
   "source": "my_df = llm_function_summarize_code.to_pandas()\nst.write(my_df.iloc[0,0])",
   "execution_count": null
  },
  {
   "cell_type": "markdown",
   "id": "2ee5c1f2-2d11-4e3a-8e9d-3ea7f870762f",
   "metadata": {
    "name": "copilot_intro",
    "collapsed": false
   },
   "source": "# Copilot: Asystent do analizy danych w Snowflake\n\n[Copilot](https://docs.snowflake.com/en/user-guide/snowflake-cortex/cortex-agents) to narzędzie oparte na modelach językowych (LLM), które pomaga użytkownikom w analizie danych w środowisku Snowflake. Snowflake Copilot jest zintegrowany z platformą Snowflake i oferuje wsparcie w generowaniu zapytań SQL, eksploracji danych oraz optymalizacji istniejących rozwiązań. Działa w bezpiecznym środowisku Snowflake, co zapewnia kontrolę nad danymi i zgodność z zasadami RBAC (kontrola dostępu oparta na rolach).\n\n---\n\n## Czym jest Snowflake Copilot?\n\n**Snowflake Copilot** to asystent, który:\n- **Ułatwia analizę danych**: Pozwala na zadawanie pytań w języku naturalnym i generowanie odpowiedzi na podstawie danych.\n- **Zapewnia bezpieczeństwo**: Działa w pełni wewnątrz Snowflake Cortex, co oznacza, że dane nigdy nie opuszczają bezpiecznego środowiska Snowflake.\n- **Respektuje RBAC**: Dostarcza sugestie tylko na podstawie danych, do których użytkownik ma dostęp.\n\n---\n\n## Jak działa Snowflake Copilot?\n\n1. **Eksploracja danych**:\n   - Copilot pomaga zrozumieć strukturę danych. Można zapytać np.: *\"Jakie kolumny znajdują się w tabeli X?\"* lub *\"Jakie są unikalne wartości w kolumnie Y?\"*.\n   - Asystent prowadzi użytkownika przez eksplorację nowych zbiorów danych, dostarczając przydatne informacje.\n\n2. **Generowanie i optymalizacja zapytań SQL**:\n   - Copilot generuje zapytania SQL na podstawie pytań w języku naturalnym, np.: *\"Pokaż mi średnią sprzedaż w ostatnim kwartale.\"*\n   - Może również sugerować optymalizacje istniejących zapytań lub poprawiać błędy.\n\n3. **Pomoc w nauce SQL i Snowflake**:\n   - Copilot dostarcza odpowiedzi na pytania dotyczące funkcjonalności Snowflake, np.: *\"Jak stworzyć tabelę tymczasową?\"*.\n   - Odpowiedzi są oparte na oficjalnej dokumentacji Snowflake, co pomaga użytkownikom zwiększyć swoją biegłość w SQL.\n\n---\n\n## Gdzie można korzystać z Copilota?\n\nSnowflake Copilot jest dostępny w:\n- **SQL Worksheets**: Umożliwia generowanie i optymalizację zapytań SQL.\n- **Snowflake Notebooks**: Integruje się z notebookami, aby wspierać analizę danych.\n\nAby skorzystać z Copilota, wystarczy otworzyć panel Copilota w Snowsight, wpisać pytanie, a Copilot dostarczy sugestie lub gotowe zapytania SQL.\n\n---\n\n## Przykłady użycia\n\n1. **Eksploracja danych**:\n   - *\"Jakie kolumny znajdują się w tabeli `sales_data`?\"*\n   - *\"Jakie są unikalne wartości w kolumnie `region`?\"*\n\n2. **Generowanie zapytań SQL**:\n   - *\"Pokaż mi top 10 klientów pod względem sprzedaży w 2023 roku.\"*\n   - *\"Jakie są średnie miesięczne przychody w każdym regionie?\"*\n\n3. **Optymalizacja zapytań**:\n   - *\"Czy to zapytanie można zoptymalizować?\"*\n   - *\"Dlaczego to zapytanie działa wolno?\"*\n\n4. **Nauka Snowflake**:\n   - *\"Jak stworzyć nową tabelę w Snowflake?\"*\n   - *\"Jak używać funkcji okna w SQL?\"*\n\n---\n\n## O czym warto pamiętać?\n\nSnowflake Copilot, choć potężny, ma swoje ograniczenia:\n1. **Zaawansowane przypadki użycia**:\n   - Copilot może nie radzić sobie z bardzo złożonymi zapytaniami SQL, wymagającymi specjalistycznej wiedzy.\n   \n2. **Koszty**:\n   - Korzystanie z Copilota może wiązać się z dodatkowymi kosztami, szczególnie przy intensywnym wykorzystaniu.\n\n3. **Zależność od jakości danych**:\n   - Sugestie Copilota zależą od jakości i struktury danych. Nieprawidłowo zorganizowane dane mogą prowadzić do błędnych odpowiedzi.\n\n---\n\n## Podsumowanie\n\nSnowflake Copilot to użyteczne narzędzie, które może znacznie ułatwić pracę z danymi, szczególnie dla użytkowników o mniejszym doświadczeniu w SQL. Jednak, jak każde rozwiązanie, ma swoje ograniczenia, które warto wziąć pod uwagę. Copilot najlepiej sprawdza się w prostszych zadaniach, takich jak eksploracja danych czy generowanie podstawowych zapytań SQL.\n"
  },
  {
   "cell_type": "markdown",
   "id": "d83a26f0-3926-4dcf-a73a-0f8559c774f8",
   "metadata": {
    "name": "copilot_steps",
    "collapsed": false
   },
   "source": "# Uruchomienie Copilota\n\nW tym kroku uruchomimy **Snowflake Copilot**, który pomoże nam w analizie danych za pomocą prostych pytań w języku naturalnym. Copilot jest dostępny w **SQL Worksheets** i **Snowflake Notebooks**, a jego uruchomienie jest niezwykle proste.\n\n---\n\n## Krok 1: Stworzenie SQL Worksheet\n\n1. **Przejdź do Snowsight**: Zaloguj się do Snowflake i otwórz **Snowsight**.\n2. **Utwórz nowy SQL Worksheet**:\n   - Kliknij na ikone **plusa** w lewym menu.\n   - Następnie kliknij **SQL Worksheet**, aby utworzyć nowy arkusz.\n\n![copilot_1](https://i.ibb.co/2YqMdCwk/copilot1.png)\n\n---\n\n## Krok 2: Uruchomienie widgeta Copilota\n\n1. **Znajdź widget Copilota**:\n   - W prawym dolnym rogu ekranu znajdziesz widget z napisem **Ask Copilot**.\n   - Kliknij go, aby otworzyć panel Copilota.\n\n![copilot_2](https://i.ibb.co/21sJdtjt/copilot2.png)\n\n---\n\n## Krok 3: Ustawienie bazy i schematu\n\n1. **Wybierz bazę danych i schemat**:\n   - Upewnij się, że w prawym górnym rogu SQL Worksheet wybrałeś odpowiednią **bazę danych** i **schemat**.\n   - Copilot będzie korzystał z tych ustawień, aby generować zapytania SQL.\n\n2. **Gotowe!**:\n   - Teraz możesz korzystać z Copilota, aby zadawać pytania, generować zapytania SQL i optymalizować swoją pracę z danymi.\n\n\n![copilot_3](https://speakaura-public.s3.eu-central-1.amazonaws.com/output.gif) "
  },
  {
   "cell_type": "markdown",
   "id": "cde8a97b-30e9-4150-bee5-e6e46f23d666",
   "metadata": {
    "name": "cortex_search_intro",
    "collapsed": false
   },
   "source": "# Cortex Search\n\nW dzisiejszym świecie **dane** są jednym z najważniejszych filarów IT. Bez nich aplikacje, analizy i systemy decyzyjne nie miałyby sensu. Jednak ilość danych, które generujemy, jest ogromna.\n\nW świecie **LLM (Large Language Models)** oraz **Snowflake** musimy radzić sobie z ogromnymi zbiorami danych. Aby uzyskać konkretne dane potrzebne do analizy za pomocą LLM, najpierw musimy przeszukać bazę danych (lub bazy danych), a następnie dostarczyć wszystkie pożądane fragmenty informacji. Co więcej, cały ten proces musi być przeprowadzony w sposób **optymalny**, aby zapewnić szybkość i efektywność.\n\n---\n\n## Czym jest Cortex Search?\n\n**Cortex Search** to narzędzie Snowflake, które umożliwia **szybkie przeszukiwanie danych** (tzw. \"[fuzzy search](https://docs.snowflake.com/en/user-guide/snowflake-cortex/cortex-search/cortex-search-overview)\") z wykorzystaniem technik **hybrydowych** (łączenie wyszukiwania wektorowego i słów kluczowych). Dzięki Cortex Search możesz:\n\n- **Przeszukiwać zbiory danych** w czasie rzeczywistym.\n- **Automatycznie generować embeddingi** (wektory) dla tekstu, bez konieczności ręcznego ich tworzenia.\n- **Zintegrować wyszukiwanie** z aplikacjami opartymi na LLM, takimi jak chatboty czy systemy rekomendacyjne.\n\nCortex Search jest szczególnie przydatny w dwóch głównych przypadkach użycia:\n\n1. **Retrieval Augmented Generation (RAG)**:\n   - Cortex Search działa jako **silnik RAG** dla chatbotów opartych na LLM.\n   - Dzięki **wyszukiwaniu semantycznemu** dostarcza spersonalizowane i kontekstowe odpowiedzi, wykorzystując Twoje dane.\n\n2. **Enterprise Search**:\n   - Cortex Search może być używany jako **backend dla wyszukiwarki** w aplikacjach.\n   - Umożliwia tworzenie **wysokiej jakości pasków wyszukiwania**, które są zintegrowane z Twoimi danymi w Snowflake.\n\n![architecture](https://docs.snowflake.com/en/_images/cortex-search-rag.png)\n\n---\n\n## Zalety Costex Search?\n\n- **Niska latencja**: Cortex Search zapewnia szybkie wyniki, nawet przy dużych zbiorach danych.\n- **Brak konieczności zarządzania infrastrukturą**: Snowflake zajmuje się wszystkim – od generowania embeddingów po aktualizację indeksów.\n- **Łatwość użycia**: Wystarczy kilka minut, aby skonfigurować wyszukiwanie na swoich danych.\n- **Integracja z LLM**: Cortex Search idealnie współpracuje z modelami językowymi, dostarczając im dokładnie te dane, których potrzebują.\n\n---\n\n## Kiedy używać Cortex Search?\n\nCortex Search jest idealnym rozwiązaniem, gdy:\n\n1. **Tworzysz chatboty oparte na LLM**:\n   - Cortex Search dostarcza dane do modeli językowych, umożliwiając im generowanie **kontekstowych i spersonalizowanych odpowiedzi**.\n\n2. **Potrzebujesz zaawansowanej wyszukiwarki w aplikacji**:\n   - Cortex Search może być używany jako **backend dla wyszukiwarek** w aplikacjach korporacyjnych, zapewniając szybkie i dokładne wyniki.\n\n---\n\n## Przykłady użycia\n\n1. **Chatbot dla klientów**:\n   - Użytkownik pyta: \"Jakie są najnowsze trendy w sprzedaży w Europie?\"\n   - Cortex Search dostarcza dane, a LLM generuje odpowiedź na podstawie aktualnych informacji.\n\n2. **Wyszukiwarka dokumentów**:\n   - Użytkownik wpisuje: \"Znajdź wszystkie raporty z 2023 roku dotyczące COVID-19.\"\n   - Cortex Search zwraca listę dokumentów, które pasują do zapytania.\n\n---\n\n## O czym warto pamiętać?\n\nCortex Search, choć potężny, ma swoje ograniczenia:\n\n1. **Koszty**:\n   - Korzystanie z Cortex Search może wiązać się z dodatkowymi kosztami, szczególnie przy intensywnym wykorzystaniu.\n\n2. **Zależność od jakości danych**:\n   - Efektywność wyszukiwania zależy od jakości i struktury danych. Nieprawidłowo zorganizowane dane mogą prowadzić do mniej precyzyjnych wyników.\n\n3. **Krzywa uczenia się**:\n   - Pomimo łatwości użycia, niektóre zaawansowane funkcje mogą wymagać czasu na opanowanie.\n\n---\n#### Dokumentacja Snowflake\n- [Cortex Search Overview](https://docs.snowflake.com/en/user-guide/snowflake-cortex/cortex-search/cortex-search-overview)\n- [Semantic Model Specification](https://docs.snowflake.com/en/user-guide/snowflake-cortex/cortex-analyst/semantic-model-spec)"
  },
  {
   "cell_type": "code",
   "id": "0ee94b33-7d66-472e-8fc3-333139eaacb2",
   "metadata": {
    "language": "sql",
    "name": "cell4"
   },
   "outputs": [],
   "source": "\nSELECT PARSE_JSON(\n  SNOWFLAKE.CORTEX.SEARCH_PREVIEW(\n      'SALES_INTELLIGENCE.DATA.COVID_RESTRICTION_SEARCH', -- tutaj musicie uzupelnic lokalizacje swojego stworzonego search service ,\n      '{\n        \"query\": \"Cite me source regarding polish airlines\",\n        \"columns\":[\n            \"SOURCES\",\n            \"COUNTRY\"\n        ],\n        \"limit\":1\n      }'\n  )\n)['results'] as results;",
   "execution_count": null
  },
  {
   "cell_type": "markdown",
   "id": "6b17c3f4-1319-4b9f-8589-cfb98ddcb875",
   "metadata": {
    "name": "cortex_search_steps",
    "collapsed": false
   },
   "source": "# Stworzenie Cortex Search Service\n\nW tym kroku stworzymy **Cortex Search Service**, które następnie będziemy mogli łatwo zintegrować z innymi narzędziami Snowflake. Cortex Search Service umożliwia szybkie i efektywne przeszukiwanie danych, co jest kluczowe w pracy z dużymi zbiorami danych.\n\n---\n\n## Krok 0: Cortex Search Service\n\n1. **Uruchom kreator Cortex Search Service**:\n   - Przejdź do sekcji **AI & ML** w Snowflake.\n   - Wybierz **Studio**, a następnie **Cortex Search Service**.\n\n![search_1](https://i.ibb.co/NnSGyxwY/search1.png)\n\n---\n\n## Krok 1: Warehouse, baza i schemat\n\n1. **Wybierz warehouse, bazę danych oraz schemat**:\n   - Upewnij się, że wybierasz odpowiedni **warehouse**, **bazę danych** oraz **schemat**, w którym chcesz utworzyć serwis.\n\n2. **Nadaj nazwę swojemu serwisowi**:\n   - Wpisz unikalną nazwę dla swojego serwisu. Nazwa powinna być opisowa, aby łatwo było ją zidentyfikować w przyszłości.\n\n![search_2](https://i.ibb.co/JWrT1W37/search2.png)\n\n---\n\n## Krok 2: Indeksowanie\n\n1. **Wybór kolumny**: \n    - Wybierz kolumne, która ma być zidneksowana przez search service.\n    - Po wybraniu kolumny kliknij przycisk na dole, by przejść dalej.\n\n![search_3](https://i.ibb.co/wZfvqxmk/search3.png)\n\n---\n\n## Krok 3: Konfiguracja wyszukiwania\n\n1. **Wybór kolumn**: \n    - Wybierz kolumny, które mają być brane pod uwagę podczas wyszukiwania\n    - Po wybraniu kolumn kliknij przycisk na dole, by przejść dalej.\n\n![search_4](https://i.ibb.co/Z1XQRJVX/search4.png)\n\n---\n\nReszta kroków w kreatorze search service jest opcjonalna, na ten moment je pomijamy.\n\n---\n\n## Krok 4: Stwórz serwis\n\n1. **Wszystko gotowe**: \n    - Upewnij się, że wszystkie potrzebne kolumny były zaznaczone, jeżeli tak kliknij przycisk na dole\n\n![search_6](https://i.ibb.co/1fxkVjHC/search6.png)\n\n---\n\nTo tyle i **aż tyle!**, wszystko w Snowflake robi się paroma kliknięciami 😊"
  },
  {
   "cell_type": "markdown",
   "id": "8f730d72-0ba2-4f78-bc7e-baa33f8bbff9",
   "metadata": {
    "name": "cortex_analyst_intro",
    "collapsed": false
   },
   "source": "# Cortex Analyst: Twój pomocnik w analizie danych\n\nCortex Analyst to narzędzie, które pozwala Ci skupić się na **analizie danych**, a nie na pisaniu skomplikowanych zapytań SQL.\n\n- **Automatyczne przetwarzanie**: Tekst zostanie zamieniony na zapytanie SQL.\n- **Wykonanie zapytania**: AI wykona zapytanie i zwróci wyniki.\n\n**Analyst zdejmuje z Ciebie obowiązek pisania zaawansowanych instrukcji SQL.** \n\n- **Inteligentne podpowiedzi**: Jeśli AI nie zrozumie Twojego zapytania, zaproponuje, o co prawdopodobnie Ci chodziło.\n- **Wyższa warstwa abstrakcji**: Wystarczy, że znasz dane oraz relacje między nimi. Zapytaj po ludzku, a Cortex Analyst zajmie się resztą.\n\nDzięki Cortex Analyst możesz:\n- **Szybciej analizować dane** – bez konieczności pisania skomplikowanych zapytań.\n- **Skupić się na wnioskach** – zamiast na technicznych szczegółach.\n- **Pracować efektywniej** – nawet jeśli nie jesteś ekspertem od SQL.\n"
  },
  {
   "cell_type": "markdown",
   "id": "86c0dce7-74be-4580-8af1-17d27f9e9bdf",
   "metadata": {
    "name": "cortex_analyst_steps",
    "collapsed": false
   },
   "source": "# Przygotowanie danych (Tasty Bytes)\n\nW tym kroku przygotujemy dane do analizy. Skupimy się na danych związanych z **Tasty Bytes**. Poniżej znajdziesz instrukcje krok po kroku, jak to zrobić.\n\n---\n\n## Krok 0: Cortex Analyst\n- Uruchom kreator Cortex Analyst\n- Przejdź do **AI & ML** -> **Studio** -> **Cortex Analyst**\n\n![stage_0](https://i.ibb.co/XMZv06s/image-5.png)\n\n\n## Krok 1: Stwórz semantic model\n\n### 1. Wybierz stage\n- Przejdź do sekcji **Stage** w Snowflake.\n\n![stage_1](https://i.ibb.co/Xx1tVdN8/tb1.png)\n\n- Wybierz odpowiedni stage, w którym znajdują się Twoje dane.\n\n![stage_2](https://i.ibb.co/v6cZLCZn/tb2.png)\n\n### 2. Zdefiniuj pytania\n- Określ, jakie pytania chcesz zadać do danych.\n\n![stage_3](https://i.ibb.co/F4NgCsWv/tb3.png)\n\n### 3. Wybierz tabele i kolumny\n- Wybierz tabele i kolumny, które będą potrzebne do odpowiedzi na Twoje pytania.\n- Upewnij się, że wybrane kolumny zawierają odpowiednie dane.\n\n![stage_4](https://i.ibb.co/C5WzTmHs/tb4.png)\n\n### 4. Zapisz semantic model\n- Po zdefiniowaniu pytań i wybraniu tabel, zapisz swój semantic model.\n- Nadaj mu odpowiednią nazwę, np. `tasty_bytes`.\n\n---\n\n## Krok 2: Zacznij analizować za pomocą pytań\n\n- Teraz, gdy masz gotowy semantic model i ustawione relacje, możesz zacząć analizować dane.\n- Wprowadź swoje pytania w interfejsie Cortex Analyst i obserwuj, jak AI generuje odpowiedzi na podstawie Twoich danych.\n\n![stage_final](https://speakaura-public.s3.eu-central-1.amazonaws.com/output1.gif)\n\n---\n\n**Przykładowe Pytanie do Tasty Bytes** What is the average order total for customers in the country of Germany?\n**Gotowy?** No to do dzieła! 🚀 Cortex Analyst czeka, aby pomóc Ci w analizie danych. Powodzenia! 😊\n\n---\n\n**Dodatkowe Materiały**\nSnowflake udostępnia liczne tutoriale o swoich funkcjonalnościach, poniżej znajdziecie dwa dotyczące Cortext Analyst\n\n[Getting Started With Cortex](https://quickstarts.snowflake.com/guide/getting_started_with_cortex_analyst/#0)\n\n[Semantic File Generation](https://quickstarts.snowflake.com/guide/semantic_file_generation_for_cortex_analyst/index.html#0)"
  },
  {
   "cell_type": "markdown",
   "id": "2248ac14-e52b-4a80-a96e-4bfd2089daca",
   "metadata": {
    "name": "cortex_agents_intro",
    "collapsed": false
   },
   "source": "# Cortex Agents: Inteligentne narzędzia AI w Snowflake (Może też jakos właśnie opisać buisness context i przekminić co z tym można pokazac)\n\n**[Cortex Agents](https://docs.snowflake.com/en/user-guide/snowflake-cortex/cortex-agents)** to jedna z najbardziej zaawansowanych funkcji AI dostępnych w Snowflake! Dzięki nim możemy stworzyć inteligentny interfejs, który pozwala na **seamless integration** (bezproblemową integrację) różnych funkcjonalności z platformy **Cortex**.\n\n## Co potrafią Cortex Agents?\n\nAgenci wykorzystują dwa potężne narzędzia:\n1. **Cortex Search** – pozwala na efektywne wyszukiwanie i analizę danych.\n2. **Cortex Analyst** – umożliwia zaawansowaną analizę semantyczną.\n\nDzięki połączeniu tych dwóch narzędzi, Cortex Agents stają się niezwykle potężnym narzędziem do pracy z danymi.\n\n## Przykład użycia\n\nW trakcie warsztatów pokażemy, jak **połączyć dwa modele semantyczne** za pomocą Cortex Agents. Następnie, wykorzystując prosty interfejs, przeanalizujemy **dwie bazy danych** – wszystko z jednego miejsca! To pokaże, jak łatwo i efektywnie można zarządzać danymi w Snowflake.\n\n### Dlaczego to takie ważne?\n- **Integracja**: Łączenie różnych funkcjonalności w jednym miejscu.\n- **Efektywność**: Szybka analiza danych bez konieczności przełączania się między narzędziami.\n- **Prostota**: Intuicyjny interfejs, który ułatwia pracę nawet początkującym użytkownikom.\n\nCortex Agents to przyszłość zarządzania danymi w Snowflake – przekonaj się sam!"
  },
  {
   "cell_type": "markdown",
   "id": "0b363220-2e8a-4de8-97ca-a441464a2377",
   "metadata": {
    "name": "agents_prepare",
    "collapsed": false
   },
   "source": "# #1 Przygotowanie\n\nW tej części przygotujemy środowisko do pracy z **Cortex Agents**. Wykonamy następujące kroki:\n\n1. **Importowanie modeli i konfiguracja**:\n   - Zaimportujemy niezbędne modele oraz przygotujemy pliki konfiguracyjne.\n   - Wykorzystamy **Streamlit** do stworzenia prostego interfejsu graficznego, który umożliwi komunikację z agentem.\n\n2. **Definiowanie ustawień API i modeli semantycznych**:\n   - Skonfigurujemy endpoint API oraz modele semantyczne, które będą używane przez naszego agenta.\n   - Wykorzystamy dwa modele semantyczne: jeden do analizy danych z bazy `TB_101`, a drugi do danych związanych z COVID-19.\n\nGotowy kod znajdziesz poniżej."
  },
  {
   "cell_type": "code",
   "id": "0125d13a-3b07-4dad-929d-0d0fb4409a25",
   "metadata": {
    "language": "python",
    "name": "agents_prepare_code"
   },
   "outputs": [],
   "source": "# Importowanie niezbędnych bibliotek\nimport streamlit as st\nimport json\nimport _snowflake\nfrom snowflake.snowpark.context import get_active_session\n\n# Inicjalizacja sesji Snowflake\nsession = get_active_session()\n\n# Konfiguracja endpointu API i timeoutu\nAPI_ENDPOINT = \"/api/v2/cortex/agent:run\"\nAPI_TIMEOUT = 50000  # timeout w milisekundach\n\n# Definiowanie usług Cortex Search oraz modeli semantycznych\nSEMANTIC_MODELS = \"@tb_101.analytics.models/tasty.yaml\"\nCOVID_SEMANTIC_MODELS = \"@tb_101.analytics.models/covid.yaml\"",
   "execution_count": null
  },
  {
   "cell_type": "markdown",
   "id": "80c4349b-cb86-4c13-95fa-18506d004bfe",
   "metadata": {
    "name": "agents_prepare_ui",
    "collapsed": false
   },
   "source": "# #2 Przygotowanie UI\n\nW tym kroku zajmiemy się **stylizacją interfejsu użytkownika** za pomocą **CSS**. Naszym celem jest:\n1. **Zdefiniowanie spójnej palety kolorów** dla całej aplikacji.\n2. **Stylizacja komponentów** takich jak tytuły, pola tekstowe, przyciski, komunikaty o błędach i tooltipy.\n3. **Ukrycie niepotrzebnych elementów** Streamlita, takich jak branding czy menu.\n\nPoniżej znajdziesz gotowy kod CSS, który możesz dostosować do swoich potrzeb."
  },
  {
   "cell_type": "code",
   "id": "bf3511c7-ccf3-474e-941a-8c64fa9dcc10",
   "metadata": {
    "language": "python",
    "name": "agents_ui_code"
   },
   "outputs": [],
   "source": "st.markdown(\"\"\"\n<style>\n/* Unified Color Palette */\n:root {\n    --background-color: #FFFFFF; /* Kolor tła aplikacji */\n    --text-color: #222222;       /* Kolor tekstu */\n    --title-color: #1A1A1A;      /* Kolor tytułów */\n    --button-color: #1a56db;     /* Kolor przycisków */\n    --button-text: #FFFFFF;      /* Kolor tekstu na przyciskach */\n    --border-color: #CBD5E0;     /* Kolor obramowań */\n    --accent-color: #2C5282;     /* Kolor akcentów */\n}\n\n/* General App Styling */\n.stApp {\n    background-color: var(--background-color); /* Tło aplikacji */\n    color: var(--text-color);                  /* Kolor tekstu */\n}\n\n/* Title Styling */\nh1, .stTitle {\n    color: var(--title-color) !important;      /* Kolor tytułów */\n    font-size: 36px !important;               /* Rozmiar czcionki */\n    font-weight: 600 !important;              /* Grubość czcionki */\n    padding: 1.5rem 0;                        /* Padding */\n}\n\n/* Input Fields */\ntextarea {\n    background-color: white !important;        /* Tło pola tekstowego */\n    border: 1px solid var(--border-color) !important; /* Obramowanie */\n    border-radius: 4px !important;            /* Zaokrąglenie rogów */\n    padding: 16px !important;                 /* Padding */\n    font-size: 16px !important;               /* Rozmiar czcionki */\n    color: var(--text-color) !important;      /* Kolor tekstu */\n}\n\ntextarea:focus {\n    border-color: var(--accent-color) !important; /* Kolor obramowania po kliknięciu */\n    box-shadow: 0 0 0 1px var(--accent-color) !important; /* Cień */\n}\n\ntextarea::placeholder {\n    color: #666666 !important;                /* Kolor placeholderów */\n}\n\n/* Success & Error Messages */\n.stException {\n    background-color: #FEE2E2 !important;     /* Tło komunikatu o błędzie */\n    border: 1px solid #EF4444 !important;     /* Obramowanie */\n    padding: 16px !important;                 /* Padding */\n    border-radius: 4px !important;            /* Zaokrąglenie rogów */\n    margin: 16px 0 !important;                /* Margines */\n    color: #991B1B !important;                /* Kolor tekstu */\n}\n\ndiv[data-testid=\"stAlert\"], div[data-testid=\"stException\"] {\n    background-color: #f8d7da !important;     /* Tło alertu */\n    color: #721c24 !important;                /* Kolor tekstu */\n    border: 1px solid #f5c6cb !important;     /* Obramowanie */\n    padding: 12px !important;                 /* Padding */\n    border-radius: 6px !important;            /* Zaokrąglenie rogów */\n    font-weight: bold !important;             /* Grubość czcionki */\n}\n\ndiv[data-testid=\"stAlertContentError\"] {\n    color: #721c24 !important;               /* Kolor tekstu błędu */\n}\n\n/* Buttons */\nbutton[data-testid=\"stBaseButton-secondaryFormSubmit\"] {\n    background-color: #007bff !important;     /* Tło przycisku */\n    color: white !important;                  /* Kolor tekstu */\n    font-weight: bold !important;             /* Grubość czcionki */\n    border-radius: 5px !important;            /* Zaokrąglenie rogów */\n    padding: 8px 16px !important;             /* Padding */\n    border: none !important;                  /* Brak obramowania */\n}\n\n/* Sidebar Buttons */\n.stSidebar button {\n    background-color: #1a56db !important;     /* Tło przycisku w sidebarze */\n    color: white !important;                  /* Kolor tekstu */\n    font-weight: 600 !important;              /* Grubość czcionki */\n    border: none !important;                  /* Brak obramowania */\n}\n\n/* Tooltips */\n.tooltip {\n    visibility: hidden;                       /* Ukryj tooltip domyślnie */\n    opacity: 0;                              /* Przezroczystość */\n    background-color: white;                 /* Tło tooltipa */\n    color: var(--text-color);                /* Kolor tekstu */\n    padding: 10px;                           /* Padding */\n    border-radius: 10px;                     /* Zaokrąglenie rogów */\n    font-size: 14px;                         /* Rozmiar czcionki */\n    line-height: 1.5;                        /* Wysokość linii */\n    width: max-content;                      /* Szerokość */\n    max-width: 300px;                        /* Maksymalna szerokość */\n    position: absolute;                      /* Pozycja absolutna */\n    z-index: 1000;                           /* Warstwa */\n    bottom: calc(100% + 5px);               /* Pozycja względem elementu */\n    left: 50%;                               /* Pozycja względem elementu */\n    transform: translateX(-50%);             /* Centrowanie */\n    transition: opacity 0.3s ease, transform 0.3s ease; /* Animacja */\n}\n\n.citation:hover + .tooltip {\n    visibility: visible;                      /* Pokaż tooltip po najechaniu */\n    opacity: 1;                              /* Pełna widoczność */\n    transform: translateX(-50%) translateY(0); /* Animacja */\n}\n\n/* Hide Streamlit Branding */\n#MainMenu, header, footer {\n    visibility: hidden;                       /* Ukryj branding Streamlita */\n}\n\n/* Download Button */\n[data-testid=\"stDownloadButton\"] button {\n    background-color: #2196F3 !important;     /* Tło przycisku pobierania */\n    color: #FFFFFF !important;                /* Kolor tekstu */\n    font-weight: 600 !important;              /* Grubość czcionki */\n    border: none !important;                  /* Brak obramowania */\n    padding: 0.5rem 1rem !important;          /* Padding */\n    border-radius: 0.375rem !important;       /* Zaokrąglenie rogów */\n    box-shadow: none !important;              /* Brak cienia */\n}\n</style>\n\"\"\", unsafe_allow_html=True)",
   "execution_count": null
  },
  {
   "cell_type": "markdown",
   "id": "95dec065-fbd5-46db-94f5-89f9ccf3de88",
   "metadata": {
    "name": "agents_agent",
    "collapsed": false
   },
   "source": "# #3 Ustawienie Agenta\n\nW tym kroku skonfigurujemy naszego **Cortex Agenta**, aby był gotowy do działania. Wykonamy następujące czynności:\n\n1. **Wybór modelu LLM**: Użyjemy zaawansowanego modelu językowego **Llama3.1-70b**, który będzie odpowiadał na zapytania użytkownika.\n2. **Dodanie narzędzi**: Skonfigurujemy dostępne narzędzia, które agent będzie mógł wykorzystywać:\n   - **Cortex Analyst Text-to-SQL**: Narzędzie do konwersji zapytań tekstowych na zapytania SQL.\n   - Dwa modele semantyczne: `tasty1` (dla bazy `TB_101`) oraz `covid1` (dla bazy COVID-19).\n\nPoniżej znajdziesz gotowy kod, który realizuje te zadania."
  },
  {
   "cell_type": "code",
   "id": "75a1c9a2-d741-4a19-baba-7b64b84e4468",
   "metadata": {
    "language": "python",
    "name": "agents_agent_code"
   },
   "outputs": [],
   "source": "def snowflake_api_call(query: str, limit: int = 10):\n    # Przygotowanie payloadu dla API\n    payload = {\n        \"model\": \"llama3.1-70b\",  # Użyj modelu Llama3.1-70b\n        \"messages\": [\n            {\n                \"role\": \"user\",  # Rola użytkownika\n                \"content\": [\n                    {\n                        \"type\": \"text\",  # Typ wiadomości\n                        \"text\": query    # Treść zapytania\n                    }\n                ]\n            }\n        ],\n        \"tools\": [\n            {\n                \"tool_spec\": {\n                    \"type\": \"cortex_analyst_text_to_sql\",  # Narzędzie do konwersji tekstu na SQL\n                    \"name\": \"tasty1\"  # Nazwa narzędzia dla bazy TB_101\n                }\n            },\n            {\n                \"tool_spec\": {\n                    \"type\": \"cortex_analyst_text_to_sql\",  # Narzędzie do konwersji tekstu na SQL\n                    \"name\": \"covid1\"  # Nazwa narzędzia dla bazy COVID-19\n                }\n            }\n        ],\n        \"tool_resources\": {\n            \"tasty1\": {\"semantic_model_file\": SEMANTIC_MODELS},  # Model semantyczny dla TB_101\n            \"covid1\": {\"semantic_model_file\": COVID_SEMANTIC_MODELS}  # Model semantyczny dla COVID-19\n        }\n    }\n    \n    try:\n        # Wysłanie zapytania do API Snowflake\n        resp = _snowflake.send_snow_api_request(\n            \"POST\",  # Metoda HTTP\n            API_ENDPOINT,  # Endpoint API\n            {},  # Nagłówki\n            {},  # Parametry\n            payload,  # Treść zapytania\n            None,  # GUID zapytania\n            API_TIMEOUT,  # Timeout w milisekundach\n        )\n        \n        # Próba parsowania odpowiedzi JSON\n        try:\n            response_content = json.loads(resp[\"content\"])\n        except json.JSONDecodeError:\n            st.error(\"❌ Nie udało się przetworzyć odpowiedzi API. Serwer mógł zwrócić nieprawidłowy format JSON.\")\n            if resp[\"status\"] != 200:\n                st.error(f\"Błąd: {resp} \")\n            return None\n        return response_content\n    except Exception as e:\n        st.error(f\"Błąd podczas wysyłania zapytania: {str(e)}\")\n        return None",
   "execution_count": null
  },
  {
   "cell_type": "markdown",
   "id": "be1b4d16-d86a-4465-8011-c3fc896a4189",
   "metadata": {
    "name": "agents_sql",
    "collapsed": false
   },
   "source": "# #4 Wykonanie zapytania SQL\n\nW tym kroku stworzymy funkcję, która będzie odpowiedzialna za **wykonanie zapytania SQL** w Snowflake. Funkcja ta:\n1. **Przyjmuje zapytanie SQL** jako argument.\n2. **Usuwa średniki** z zapytania (jeśli istnieją), aby uniknąć błędów.\n3. **Wykonuje zapytanie** za pomocą sesji Snowflake.\n4. **Zwraca wynik** w postaci DataFrame lub wyświetla błąd, jeśli coś pójdzie nie tak.\n\nPoniżej znajdziesz gotowy kod, który realizuje te zadania."
  },
  {
   "cell_type": "code",
   "id": "aa74d0d0-e24f-484e-97e0-269f7590117c",
   "metadata": {
    "language": "python",
    "name": "agents_sql_code"
   },
   "outputs": [],
   "source": "def run_snowflake_query(query):\n    \"\"\"\n    Wykonuje zapytanie SQL w Snowflake.\n\n    Args:\n        query (str): Zapytanie SQL do wykonania.\n\n    Returns:\n        DataFrame: Wynik zapytania w postaci DataFrame.\n                  Zwraca None w przypadku błędu.\n    \"\"\"\n    try:\n        # Usuń średniki z zapytania, aby uniknąć błędów\n        cleaned_query = query.replace(';', '')\n        \n        # Wykonaj zapytanie za pomocą sesji Snowflake\n        df = session.sql(cleaned_query)\n        return df\n    except Exception as e:\n        # Wyświetl błąd, jeśli coś pójdzie nie tak\n        st.error(f\"❌ Błąd podczas wykonywania zapytania SQL: {str(e)}\")\n        return None",
   "execution_count": null
  },
  {
   "cell_type": "markdown",
   "id": "5226b0ad-a896-46fb-a1f6-9e07c158c266",
   "metadata": {
    "name": "agents_see",
    "collapsed": false
   },
   "source": "# #5 Informacja zwrotna\n\nW tym kroku zajmiemy się **przetwarzaniem odpowiedzi w formie streamingu** (SSE - Server-Sent Events). Odpowiedź od agenta przychodzi w postaci strumienia danych, dlatego musimy napisać funkcję, która:\n1. **Parsuje dane** z odpowiedzi.\n2. **Wydobywa tekst** oraz **zapytanie SQL** z otrzymanych danych.\n3. **Obsługuje błędy**, aby zapewnić płynne działanie aplikacji.\n\nPoniżej znajdziesz gotowy kod, który realizuje te zadania."
  },
  {
   "cell_type": "code",
   "id": "bcffcc30-18be-4d99-9888-effe5f02eff9",
   "metadata": {
    "language": "python",
    "name": "agents_see_code"
   },
   "outputs": [],
   "source": "def process_sse_response(response):\n    \"\"\"\n    Przetwarza odpowiedź w formie streamingu (SSE) od agenta.\n\n    Args:\n        response (list): Lista zdarzeń SSE do przetworzenia.\n\n    Returns:\n        tuple: Krotka zawierająca tekst i zapytanie SQL.\n               Jeśli odpowiedź jest pusta, zwraca puste stringi.\n    \"\"\"\n    text = \"\"  # Przechowuje przetworzony tekst\n    sql = \"\"   # Przechowuje przetworzone zapytanie SQL\n\n    # Jeśli odpowiedź jest pusta, zwróć puste wartości\n    if not response:\n        return text, sql\n\n    try:\n        # Przetwarzaj każde zdarzenie w odpowiedzi\n        for event in response:\n            if event.get('event') == \"message.delta\":\n                data = event.get('data', {})  # Dane z zdarzenia\n                delta = data.get('delta', {})  # Delta zawierająca zmiany\n\n                # Przetwarzaj każdy element zawartości\n                for content_item in delta.get('content', []):\n                    content_type = content_item.get('type')  # Typ zawartości\n\n                    # Jeśli zawartość to wyniki narzędzi\n                    if content_type == \"tool_results\":\n                        tool_results = content_item.get('tool_results', {})\n                        if 'content' in tool_results:\n                            for result in tool_results['content']:\n                                if result.get('type') == 'json':\n                                    # Dodaj tekst z wyników JSON\n                                    text += result.get('json', {}).get('text', '')\n                                    # Przetwarzaj wyniki wyszukiwania\n                                    search_results = result.get('json', {}).get('searchResults', [])\n                                    for search_result in search_results:\n                                        text += f\"\\n• {search_result.get('text', '')}\"\n                                    # Pobierz zapytanie SQL\n                                    sql = result.get('json', {}).get('sql', '')\n\n                    # Jeśli zawartość to zwykły tekst\n                    if content_type == 'text':\n                        text += content_item.get('text', '')  # Dodaj tekst\n\n    except json.JSONDecodeError as e:\n        st.error(f\"❌ Błąd podczas parsowania zdarzeń: {str(e)}\")\n    except Exception as e:\n        st.error(f\"❌ Błąd podczas przetwarzania zdarzeń: {str(e)}\")\n\n    return text, sql",
   "execution_count": null
  },
  {
   "cell_type": "markdown",
   "id": "6d3fc5ea-ae9e-4ff7-b9f2-9bb608686680",
   "metadata": {
    "name": "agents_func_main",
    "collapsed": false
   },
   "source": "# #6 Funkcja main\n\nW tym kroku zdefiniujemy **funkcję `main()`**, która jest sercem naszej aplikacji. Funkcja ta:\n1. **Inicjalizuje interfejs użytkownika** za pomocą Streamlit.\n2. **Obsługuje nowe konwersacje** poprzez przycisk w sidebarze.\n3. **Przechowuje historię wiadomości** w stanie sesji.\n4. **Wyświetla historię czatu** wraz z wygenerowanymi zapytaniami SQL i wynikami.\n5. **Pobiera zapytania od użytkownika** i przetwarza je za pomocą wcześniej zdefiniowanych funkcji.\n\nPoniżej znajdziesz gotowy kod, który realizuje te zadania."
  },
  {
   "cell_type": "code",
   "id": "8bd6aef4-7338-4a89-b26f-5f9dc8f2caa0",
   "metadata": {
    "language": "python",
    "name": "agents_func_main_code"
   },
   "outputs": [],
   "source": "def main():\n    \"\"\"\n    Główna funkcja aplikacji, która zarządza interfejsem użytkownika i logiką działania.\n    \"\"\"\n    # Tytuł aplikacji\n    st.title(\"Tasty bytes and COVID-19!\")\n\n    # Sidebar z przyciskiem do rozpoczynania nowej konwersacji\n    with st.sidebar:\n        if st.button(\"New Conversation\", key=\"new_chat\"):\n            st.session_state.messages = []  # Resetowanie historii wiadomości\n            st.rerun()  # Przeładowanie aplikacji\n\n    # Inicjalizacja stanu sesji dla przechowywania wiadomości\n    if 'messages' not in st.session_state:\n        st.session_state.messages = []\n\n    # Wyświetlanie historii wiadomości\n    for message in st.session_state.messages:\n        with st.chat_message(message['role']):  # Wyświetl wiadomość w odpowiednim stylu\n            if message['role'] == 'assistant' and 'sql' in message:\n                # Formatowanie i wyświetlanie odpowiedzi asystenta\n                st.markdown(message['content'].replace(\"•\", \"\\n\\n-\"))\n                st.markdown(\"### Generated SQL\")\n                st.code(message['sql'], language=\"sql\")  # Wyświetl wygenerowane SQL\n                \n                # Wykonaj zapytanie SQL i wyświetl wyniki\n                sales_results = run_snowflake_query(message['sql'])\n                if sales_results is not None:\n                    st.write(\"### Result\")\n                    st.dataframe(sales_results)  # Wyświetl wyniki w postaci tabeli\n            else:\n                # Wyświetl zwykłą wiadomość\n                st.markdown(message['content'].replace(\"•\", \"\\n\\n-\"))\n\n    # Pobierz zapytanie od użytkownika\n    if query := st.chat_input(\"Start analyzing...\"):\n        # Dodaj wiadomość użytkownika do historii\n        with st.chat_message(\"user\"):\n            st.markdown(query)\n        st.session_state.messages.append({\"role\": \"user\", \"content\": query})\n        \n        # Przetwarzaj zapytanie za pomocą API Snowflake\n        with st.spinner(\"Processing your request...\"):\n            response = snowflake_api_call(query, 1)  # Wywołanie API\n            text, sql = process_sse_response(response)  # Przetwarzanie odpowiedzi\n            \n            # Dodaj odpowiedź asystenta do historii\n            if text:\n                st.session_state.messages.append({\"role\": \"assistant\", \"content\": text, \"sql\": sql})\n                with st.chat_message(\"assistant\"):\n                    st.markdown(text.replace(\"•\", \"\\n\\n-\"))  # Wyświetl odpowiedź asystenta\n                    if sql:\n                        st.markdown(\"### Generated SQL\")\n                        st.code(sql, language=\"sql\")  # Wyświetl wygenerowane SQL\n                        \n                        # Wykonaj zapytanie SQL i wyświetl wyniki\n                        sales_results = run_snowflake_query(sql)\n                        if sales_results is not None:\n                            st.write(\"### Result\")\n                            st.dataframe(sales_results)  # Wyświetl wyniki w postaci tabeli",
   "execution_count": null
  },
  {
   "cell_type": "markdown",
   "id": "bbe8bc91-a6c9-4f91-ac98-d2550b5c7e69",
   "metadata": {
    "name": "agents_final",
    "collapsed": false
   },
   "source": "# #7 Wykonanie\n\nW tym kroku uruchomimy naszego agenta i zobaczymy, jak działa w praktyce.\n\nPoniżej znajdziesz kod, który uruchamia naszą aplikację. Po prostu kliknij \"Run\" i ciesz się wynikami!\n\n---\n\n## Przykładowe prompty\n\n- How many covid cases are there for each countries?\n- List me menu item's names"
  },
  {
   "cell_type": "code",
   "id": "b6578dcc-bc79-43e9-8ad2-2e347feb2820",
   "metadata": {
    "language": "python",
    "name": "cell5"
   },
   "outputs": [],
   "source": "if __name__ == \"__main__\":\n    # Uruchomienie aplikacji \n    main()",
   "execution_count": null
  },
  {
   "cell_type": "markdown",
   "id": "6cc66dfc-7018-4e5a-94cd-9cbd08a8818e",
   "metadata": {
    "name": "Kontakt_linkedin",
    "collapsed": false
   },
   "source": "**Zapraszamy do kontaktu, gdybyście mieli pytania**\n\nJan Załuska |  Szymon Bednarek  |  łukasz Zgłobicki\n\n![Contact](https://i.ibb.co/qZF78f3/image-26.png) \n![Contact](https://i.ibb.co/x09p2Kg/image-25.png)\n![Contact](https://i.ibb.co/67jMQXp1/image-27.png)\n\n"
  }
 ]
}